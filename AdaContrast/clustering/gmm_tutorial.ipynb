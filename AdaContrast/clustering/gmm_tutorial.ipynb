{
 "cells": [
  {
   "cell_type": "code",
   "execution_count": 1,
   "id": "e7593d76-889f-4401-b5fd-bf26b0cb57f3",
   "metadata": {},
   "outputs": [
    {
     "ename": "ImportError",
     "evalue": "cannot import name 'GaussianMixture' from 'gmm' (unknown location)",
     "output_type": "error",
     "traceback": [
      "\u001b[0;31m---------------------------------------------------------------------------\u001b[0m",
      "\u001b[0;31mImportError\u001b[0m                               Traceback (most recent call last)",
      "Cell \u001b[0;32mIn[1], line 10\u001b[0m\n\u001b[1;32m      7\u001b[0m \u001b[38;5;28;01mimport\u001b[39;00m \u001b[38;5;21;01mnumpy\u001b[39;00m \u001b[38;5;28;01mas\u001b[39;00m \u001b[38;5;21;01mnp\u001b[39;00m\n\u001b[1;32m      8\u001b[0m \u001b[38;5;28;01mimport\u001b[39;00m \u001b[38;5;21;01mtorch\u001b[39;00m\n\u001b[0;32m---> 10\u001b[0m \u001b[38;5;28;01mfrom\u001b[39;00m \u001b[38;5;21;01mgmm\u001b[39;00m \u001b[38;5;28;01mimport\u001b[39;00m GaussianMixture\n\u001b[1;32m     11\u001b[0m \u001b[38;5;28;01mfrom\u001b[39;00m \u001b[38;5;21;01mmath\u001b[39;00m \u001b[38;5;28;01mimport\u001b[39;00m sqrt\n",
      "\u001b[0;31mImportError\u001b[0m: cannot import name 'GaussianMixture' from 'gmm' (unknown location)"
     ]
    }
   ],
   "source": [
    "import matplotlib\n",
    "matplotlib.use(\"Agg\")\n",
    "import matplotlib.pyplot as plt\n",
    "import seaborn as sns\n",
    "sns.set(style=\"white\")\n",
    "colors = sns.color_palette(\"Paired\", n_colors=12).as_hex()\n",
    "import numpy as np\n",
    "import torch\n",
    "\n",
    "from gmm import GaussianMixture\n",
    "from math import sqrt\n"
   ]
  },
  {
   "cell_type": "code",
   "execution_count": null,
   "id": "b25c3450-51ef-47f1-b047-cce96a88de25",
   "metadata": {},
   "outputs": [],
   "source": [
    "\n",
    "def main():\n",
    "    n, d = 300, 2\n",
    "\n",
    "    # generate some data points ..\n",
    "    data = torch.Tensor(n, d).normal_()\n",
    "    # .. and shift them around to non-standard Gaussians\n",
    "    data[:n//2] -= 1\n",
    "    data[:n//2] *= sqrt(3)\n",
    "    data[n//2:] += 1\n",
    "    data[n//2:] *= sqrt(2)\n",
    "\n",
    "    # Next, the Gaussian mixture is instantiated and ..\n",
    "    n_components = 2\n",
    "    model = GaussianMixture(n_components, d)\n",
    "    model.fit(data)\n",
    "    # .. used to predict the data points as they where shifted\n",
    "    y = model.predict(data)\n",
    "\n",
    "    plot(data, y)\n",
    "\n",
    "\n",
    "def plot(data, y):\n",
    "    n = y.shape[0]\n",
    "\n",
    "    fig, ax = plt.subplots(1, 1, figsize=(1.61803398875*4, 4))\n",
    "    ax.set_facecolor(\"#bbbbbb\")\n",
    "    ax.set_xlabel(\"Dimension 1\")\n",
    "    ax.set_ylabel(\"Dimension 2\")\n",
    "\n",
    "    # plot the locations of all data points ..\n",
    "    for i, point in enumerate(data.data):\n",
    "        if i <= n//2:\n",
    "            # .. separating them by ground truth ..\n",
    "            ax.scatter(*point, color=\"#000000\", s=3, alpha=.75, zorder=n+i)\n",
    "        else:\n",
    "            ax.scatter(*point, color=\"#ffffff\", s=3, alpha=.75, zorder=n+i)\n",
    "\n",
    "        if y[i] == 0:\n",
    "            # .. as well as their predicted class\n",
    "            ax.scatter(*point, zorder=i, color=\"#dbe9ff\", alpha=.6, edgecolors=colors[1])\n",
    "        else:\n",
    "            ax.scatter(*point, zorder=i, color=\"#ffdbdb\", alpha=.6, edgecolors=colors[5])\n",
    "\n",
    "    handles = [plt.Line2D([0], [0], color=\"w\", lw=4, label=\"Ground Truth 1\"),\n",
    "        plt.Line2D([0], [0], color=\"black\", lw=4, label=\"Ground Truth 2\"),\n",
    "        plt.Line2D([0], [0], color=colors[1], lw=4, label=\"Predicted 1\"),\n",
    "        plt.Line2D([0], [0], color=colors[5], lw=4, label=\"Predicted 2\")]\n",
    "\n",
    "    legend = ax.legend(loc=\"best\", handles=handles)\n",
    "\n",
    "    plt.tight_layout()\n",
    "    plt.savefig(\"example.pdf\")\n",
    "\n",
    "\n",
    "if __name__ == \"__main__\":\n",
    "    main()\n"
   ]
  }
 ],
 "metadata": {
  "kernelspec": {
   "display_name": "Python 3 (ipykernel)",
   "language": "python",
   "name": "python3"
  },
  "language_info": {
   "codemirror_mode": {
    "name": "ipython",
    "version": 3
   },
   "file_extension": ".py",
   "mimetype": "text/x-python",
   "name": "python",
   "nbconvert_exporter": "python",
   "pygments_lexer": "ipython3",
   "version": "3.10.12"
  }
 },
 "nbformat": 4,
 "nbformat_minor": 5
}
